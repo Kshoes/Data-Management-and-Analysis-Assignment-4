{
 "cells": [
  {
   "cell_type": "markdown",
   "metadata": {},
   "source": [
    "## 1) Write some documentation\n"
   ]
  },
  {
   "cell_type": "markdown",
   "metadata": {},
   "source": [
    "Name: Jersey City Citibike Tripdata for January 2020\n",
    "\n",
    "Link to Data: [CitibikeNYC](https://www.citibikenyc.com/system-data) [Actual Dataset](https://s3.amazonaws.com/tripdata/JC-202001-citibike-tripdata.csv.zip)\n",
    "\n",
    "Source / Origin: Trip data for Jersey City, from Citibike NYC's official website for the month of January 2020. Data provided by Bikeshare, they appear to be using Amazon Web Services.\n",
    "\n",
    "Format: csv\n",
    "\n",
    "Types of each column:\n",
    "\n",
    "- tripduration:                 int64\n",
    "- starttime:                   object\n",
    "- stoptime:                    object\n",
    "- start station id:             int64\n",
    "- start station name:          object\n",
    "- start station latitude:     float64\n",
    "- start station longitude:    float64\n",
    "- end station id:               int64\n",
    "- end station name:            object\n",
    "- end station latitude:       float64\n",
    "- end station longitude:      float64\n",
    "- bikeid:                       int64\n",
    "- usertype:                    object\n",
    "- birth year:                   int64\n",
    "- gender:                       int64"
   ]
  },
  {
   "cell_type": "markdown",
   "metadata": {},
   "source": [
    "## 2) Retrieve the data, create a DataFrame\n"
   ]
  },
  {
   "cell_type": "code",
   "execution_count": 1,
   "metadata": {},
   "outputs": [
    {
     "name": "stdout",
     "output_type": "stream",
     "text": "tripduration                 starttime                  stoptime  \\\n0               226  2020-01-01 00:04:50.1920  2020-01-01 00:08:37.0370   \n1               377  2020-01-01 00:16:01.6700  2020-01-01 00:22:19.0800   \n2               288  2020-01-01 00:17:33.8770  2020-01-01 00:22:22.4420   \n3               435  2020-01-01 00:32:05.9020  2020-01-01 00:39:21.0660   \n4               231  2020-01-01 00:46:19.6780  2020-01-01 00:50:11.3440   \n...             ...                       ...                       ...   \n26015           544  2020-01-31 23:29:29.3910  2020-01-31 23:38:33.6910   \n26016           122  2020-01-31 23:30:59.3670  2020-01-31 23:33:01.6870   \n26017           201  2020-01-31 23:42:34.8460  2020-01-31 23:45:55.8780   \n26018           300  2020-01-31 23:45:00.6800  2020-01-31 23:50:00.8740   \n26019           721  2020-01-31 23:48:35.1700  2020-02-01 00:00:36.4060   \n\n       start station id          start station name  start station latitude  \\\n0                  3186               Grove St PATH               40.719586   \n1                  3186               Grove St PATH               40.719586   \n2                  3186               Grove St PATH               40.719586   \n3                  3195                     Sip Ave               40.730897   \n4                  3186               Grove St PATH               40.719586   \n...                 ...                         ...                     ...   \n26015              3213              Van Vorst Park               40.718489   \n26016              3792  Columbus Dr at Exchange Pl               40.716870   \n26017              3273                Manila & 1st               40.721651   \n26018              3185                   City Hall               40.717733   \n26019              3206                     Hilltop               40.731169   \n\n       start station longitude  end station id  end station name  \\\n0                   -74.043117            3211        Newark Ave   \n1                   -74.043117            3269   Brunswick & 6th   \n2                   -74.043117            3269   Brunswick & 6th   \n3                   -74.063913            3280       Astor Place   \n4                   -74.043117            3276  Marin Light Rail   \n...                        ...             ...               ...   \n26015               -74.047727            3194   McGinley Square   \n26016               -74.032810            3639        Harborside   \n26017               -74.042884            3209      Brunswick St   \n26018               -74.043845            3267      Morris Canal   \n26019               -74.057574            3202      Newport PATH   \n\n       end station latitude  end station longitude  bikeid    usertype  \\\n0                 40.721525             -74.046305   29444  Subscriber   \n1                 40.726012             -74.050389   26305  Subscriber   \n2                 40.726012             -74.050389   29268    Customer   \n3                 40.719282             -74.071262   29278    Customer   \n4                 40.714584             -74.042817   29276  Subscriber   \n...                     ...                    ...     ...         ...   \n26015             40.725340             -74.067622   29659  Subscriber   \n26016             40.719252             -74.034234   42361  Subscriber   \n26017             40.724176             -74.050656   42368  Subscriber   \n26018             40.712419             -74.038526   42257  Subscriber   \n26019             40.727224             -74.033759   29302    Customer   \n\n       birth year  gender  \n0            1984       2  \n1            1989       2  \n2            1989       1  \n3            1969       0  \n4            1983       2  \n...           ...     ...  \n26015        1989       1  \n26016        1991       1  \n26017        1988       1  \n26018        1981       2  \n26019        1998       1  \n\n[26020 rows x 15 columns]\ntripduration                 int64\nstarttime                   object\nstoptime                    object\nstart station id             int64\nstart station name          object\nstart station latitude     float64\nstart station longitude    float64\nend station id               int64\nend station name            object\nend station latitude       float64\nend station longitude      float64\nbikeid                       int64\nusertype                    object\nbirth year                   int64\ngender                       int64\ndtype: object\n"
    }
   ],
   "source": [
    "import numpy as np \n",
    "import pandas as pd\n",
    "\n",
    "df = pd.read_csv(\"JC-202001-citibike-tripdata.csv\")\n",
    "print(df)\n",
    "print(df.dtypes)\n"
   ]
  },
  {
   "cell_type": "markdown",
   "metadata": {},
   "source": [
    "## 3) Using the Data\n"
   ]
  },
  {
   "cell_type": "markdown",
   "metadata": {},
   "source": [
    "Motivation: Was curious about transportation stats in general, wanted to clean up the data for further analysis.\n",
    "\n",
    "Documentation:\n",
    "\n",
    "1) Transform a column\n",
    "\n",
    "2) Create a new calculated column\n",
    "\n",
    "3) Calculate summary statistics\n",
    "\n",
    "4) Calculate value counts\n",
    "\n",
    "5) Visualization\n"
   ]
  },
  {
   "cell_type": "code",
   "execution_count": 2,
   "metadata": {},
   "outputs": [
    {
     "data": {
      "text/html": "<div>\n<style scoped>\n    .dataframe tbody tr th:only-of-type {\n        vertical-align: middle;\n    }\n\n    .dataframe tbody tr th {\n        vertical-align: top;\n    }\n\n    .dataframe thead th {\n        text-align: right;\n    }\n</style>\n<table border=\"1\" class=\"dataframe\">\n  <thead>\n    <tr style=\"text-align: right;\">\n      <th></th>\n      <th>tripduration</th>\n      <th>starttime</th>\n      <th>stoptime</th>\n      <th>start station id</th>\n      <th>start station name</th>\n      <th>start station latitude</th>\n      <th>start station longitude</th>\n      <th>end station id</th>\n      <th>end station name</th>\n      <th>end station latitude</th>\n      <th>end station longitude</th>\n      <th>bikeid</th>\n      <th>usertype</th>\n      <th>birth year</th>\n      <th>gender</th>\n    </tr>\n  </thead>\n  <tbody>\n    <tr>\n      <td>0</td>\n      <td>226</td>\n      <td>2020-01-01 00:04:50.1920</td>\n      <td>2020-01-01 00:08:37.0370</td>\n      <td>3186</td>\n      <td>Grove St PATH</td>\n      <td>40.719586</td>\n      <td>-74.043117</td>\n      <td>3211</td>\n      <td>Newark Ave</td>\n      <td>40.721525</td>\n      <td>-74.046305</td>\n      <td>29444</td>\n      <td>Subscriber</td>\n      <td>1984</td>\n      <td>female</td>\n    </tr>\n    <tr>\n      <td>1</td>\n      <td>377</td>\n      <td>2020-01-01 00:16:01.6700</td>\n      <td>2020-01-01 00:22:19.0800</td>\n      <td>3186</td>\n      <td>Grove St PATH</td>\n      <td>40.719586</td>\n      <td>-74.043117</td>\n      <td>3269</td>\n      <td>Brunswick &amp; 6th</td>\n      <td>40.726012</td>\n      <td>-74.050389</td>\n      <td>26305</td>\n      <td>Subscriber</td>\n      <td>1989</td>\n      <td>female</td>\n    </tr>\n    <tr>\n      <td>2</td>\n      <td>288</td>\n      <td>2020-01-01 00:17:33.8770</td>\n      <td>2020-01-01 00:22:22.4420</td>\n      <td>3186</td>\n      <td>Grove St PATH</td>\n      <td>40.719586</td>\n      <td>-74.043117</td>\n      <td>3269</td>\n      <td>Brunswick &amp; 6th</td>\n      <td>40.726012</td>\n      <td>-74.050389</td>\n      <td>29268</td>\n      <td>Customer</td>\n      <td>1989</td>\n      <td>male</td>\n    </tr>\n    <tr>\n      <td>3</td>\n      <td>435</td>\n      <td>2020-01-01 00:32:05.9020</td>\n      <td>2020-01-01 00:39:21.0660</td>\n      <td>3195</td>\n      <td>Sip Ave</td>\n      <td>40.730897</td>\n      <td>-74.063913</td>\n      <td>3280</td>\n      <td>Astor Place</td>\n      <td>40.719282</td>\n      <td>-74.071262</td>\n      <td>29278</td>\n      <td>Customer</td>\n      <td>1969</td>\n      <td>unknown</td>\n    </tr>\n    <tr>\n      <td>4</td>\n      <td>231</td>\n      <td>2020-01-01 00:46:19.6780</td>\n      <td>2020-01-01 00:50:11.3440</td>\n      <td>3186</td>\n      <td>Grove St PATH</td>\n      <td>40.719586</td>\n      <td>-74.043117</td>\n      <td>3276</td>\n      <td>Marin Light Rail</td>\n      <td>40.714584</td>\n      <td>-74.042817</td>\n      <td>29276</td>\n      <td>Subscriber</td>\n      <td>1983</td>\n      <td>female</td>\n    </tr>\n    <tr>\n      <td>...</td>\n      <td>...</td>\n      <td>...</td>\n      <td>...</td>\n      <td>...</td>\n      <td>...</td>\n      <td>...</td>\n      <td>...</td>\n      <td>...</td>\n      <td>...</td>\n      <td>...</td>\n      <td>...</td>\n      <td>...</td>\n      <td>...</td>\n      <td>...</td>\n      <td>...</td>\n    </tr>\n    <tr>\n      <td>26015</td>\n      <td>544</td>\n      <td>2020-01-31 23:29:29.3910</td>\n      <td>2020-01-31 23:38:33.6910</td>\n      <td>3213</td>\n      <td>Van Vorst Park</td>\n      <td>40.718489</td>\n      <td>-74.047727</td>\n      <td>3194</td>\n      <td>McGinley Square</td>\n      <td>40.725340</td>\n      <td>-74.067622</td>\n      <td>29659</td>\n      <td>Subscriber</td>\n      <td>1989</td>\n      <td>male</td>\n    </tr>\n    <tr>\n      <td>26016</td>\n      <td>122</td>\n      <td>2020-01-31 23:30:59.3670</td>\n      <td>2020-01-31 23:33:01.6870</td>\n      <td>3792</td>\n      <td>Columbus Dr at Exchange Pl</td>\n      <td>40.716870</td>\n      <td>-74.032810</td>\n      <td>3639</td>\n      <td>Harborside</td>\n      <td>40.719252</td>\n      <td>-74.034234</td>\n      <td>42361</td>\n      <td>Subscriber</td>\n      <td>1991</td>\n      <td>male</td>\n    </tr>\n    <tr>\n      <td>26017</td>\n      <td>201</td>\n      <td>2020-01-31 23:42:34.8460</td>\n      <td>2020-01-31 23:45:55.8780</td>\n      <td>3273</td>\n      <td>Manila &amp; 1st</td>\n      <td>40.721651</td>\n      <td>-74.042884</td>\n      <td>3209</td>\n      <td>Brunswick St</td>\n      <td>40.724176</td>\n      <td>-74.050656</td>\n      <td>42368</td>\n      <td>Subscriber</td>\n      <td>1988</td>\n      <td>male</td>\n    </tr>\n    <tr>\n      <td>26018</td>\n      <td>300</td>\n      <td>2020-01-31 23:45:00.6800</td>\n      <td>2020-01-31 23:50:00.8740</td>\n      <td>3185</td>\n      <td>City Hall</td>\n      <td>40.717733</td>\n      <td>-74.043845</td>\n      <td>3267</td>\n      <td>Morris Canal</td>\n      <td>40.712419</td>\n      <td>-74.038526</td>\n      <td>42257</td>\n      <td>Subscriber</td>\n      <td>1981</td>\n      <td>female</td>\n    </tr>\n    <tr>\n      <td>26019</td>\n      <td>721</td>\n      <td>2020-01-31 23:48:35.1700</td>\n      <td>2020-02-01 00:00:36.4060</td>\n      <td>3206</td>\n      <td>Hilltop</td>\n      <td>40.731169</td>\n      <td>-74.057574</td>\n      <td>3202</td>\n      <td>Newport PATH</td>\n      <td>40.727224</td>\n      <td>-74.033759</td>\n      <td>29302</td>\n      <td>Customer</td>\n      <td>1998</td>\n      <td>male</td>\n    </tr>\n  </tbody>\n</table>\n<p>26020 rows × 15 columns</p>\n</div>",
      "text/plain": "       tripduration                 starttime                  stoptime  \\\n0               226  2020-01-01 00:04:50.1920  2020-01-01 00:08:37.0370   \n1               377  2020-01-01 00:16:01.6700  2020-01-01 00:22:19.0800   \n2               288  2020-01-01 00:17:33.8770  2020-01-01 00:22:22.4420   \n3               435  2020-01-01 00:32:05.9020  2020-01-01 00:39:21.0660   \n4               231  2020-01-01 00:46:19.6780  2020-01-01 00:50:11.3440   \n...             ...                       ...                       ...   \n26015           544  2020-01-31 23:29:29.3910  2020-01-31 23:38:33.6910   \n26016           122  2020-01-31 23:30:59.3670  2020-01-31 23:33:01.6870   \n26017           201  2020-01-31 23:42:34.8460  2020-01-31 23:45:55.8780   \n26018           300  2020-01-31 23:45:00.6800  2020-01-31 23:50:00.8740   \n26019           721  2020-01-31 23:48:35.1700  2020-02-01 00:00:36.4060   \n\n       start station id          start station name  start station latitude  \\\n0                  3186               Grove St PATH               40.719586   \n1                  3186               Grove St PATH               40.719586   \n2                  3186               Grove St PATH               40.719586   \n3                  3195                     Sip Ave               40.730897   \n4                  3186               Grove St PATH               40.719586   \n...                 ...                         ...                     ...   \n26015              3213              Van Vorst Park               40.718489   \n26016              3792  Columbus Dr at Exchange Pl               40.716870   \n26017              3273                Manila & 1st               40.721651   \n26018              3185                   City Hall               40.717733   \n26019              3206                     Hilltop               40.731169   \n\n       start station longitude  end station id  end station name  \\\n0                   -74.043117            3211        Newark Ave   \n1                   -74.043117            3269   Brunswick & 6th   \n2                   -74.043117            3269   Brunswick & 6th   \n3                   -74.063913            3280       Astor Place   \n4                   -74.043117            3276  Marin Light Rail   \n...                        ...             ...               ...   \n26015               -74.047727            3194   McGinley Square   \n26016               -74.032810            3639        Harborside   \n26017               -74.042884            3209      Brunswick St   \n26018               -74.043845            3267      Morris Canal   \n26019               -74.057574            3202      Newport PATH   \n\n       end station latitude  end station longitude  bikeid    usertype  \\\n0                 40.721525             -74.046305   29444  Subscriber   \n1                 40.726012             -74.050389   26305  Subscriber   \n2                 40.726012             -74.050389   29268    Customer   \n3                 40.719282             -74.071262   29278    Customer   \n4                 40.714584             -74.042817   29276  Subscriber   \n...                     ...                    ...     ...         ...   \n26015             40.725340             -74.067622   29659  Subscriber   \n26016             40.719252             -74.034234   42361  Subscriber   \n26017             40.724176             -74.050656   42368  Subscriber   \n26018             40.712419             -74.038526   42257  Subscriber   \n26019             40.727224             -74.033759   29302    Customer   \n\n       birth year   gender  \n0            1984   female  \n1            1989   female  \n2            1989     male  \n3            1969  unknown  \n4            1983   female  \n...           ...      ...  \n26015        1989     male  \n26016        1991     male  \n26017        1988     male  \n26018        1981   female  \n26019        1998     male  \n\n[26020 rows x 15 columns]"
     },
     "execution_count": 2,
     "metadata": {},
     "output_type": "execute_result"
    }
   ],
   "source": [
    "# 1) \n",
    "def get_gender(n):\n",
    "    if n == 0:\n",
    "        return 'unknown'\n",
    "    elif n == 1:\n",
    "        return 'male'\n",
    "    else:\n",
    "        return 'female'\n",
    "\n",
    "df['gender'] = df['gender'].transform(get_gender)\n",
    "df\n"
   ]
  },
  {
   "cell_type": "code",
   "execution_count": 3,
   "metadata": {},
   "outputs": [
    {
     "name": "stdout",
     "output_type": "stream",
     "text": "tripduration                 starttime                  stoptime  \\\n0               226  2020-01-01 00:04:50.1920  2020-01-01 00:08:37.0370   \n1               377  2020-01-01 00:16:01.6700  2020-01-01 00:22:19.0800   \n2               288  2020-01-01 00:17:33.8770  2020-01-01 00:22:22.4420   \n3               435  2020-01-01 00:32:05.9020  2020-01-01 00:39:21.0660   \n4               231  2020-01-01 00:46:19.6780  2020-01-01 00:50:11.3440   \n...             ...                       ...                       ...   \n26015           544  2020-01-31 23:29:29.3910  2020-01-31 23:38:33.6910   \n26016           122  2020-01-31 23:30:59.3670  2020-01-31 23:33:01.6870   \n26017           201  2020-01-31 23:42:34.8460  2020-01-31 23:45:55.8780   \n26018           300  2020-01-31 23:45:00.6800  2020-01-31 23:50:00.8740   \n26019           721  2020-01-31 23:48:35.1700  2020-02-01 00:00:36.4060   \n\n       start station id          start station name  start station latitude  \\\n0                  3186               Grove St PATH               40.719586   \n1                  3186               Grove St PATH               40.719586   \n2                  3186               Grove St PATH               40.719586   \n3                  3195                     Sip Ave               40.730897   \n4                  3186               Grove St PATH               40.719586   \n...                 ...                         ...                     ...   \n26015              3213              Van Vorst Park               40.718489   \n26016              3792  Columbus Dr at Exchange Pl               40.716870   \n26017              3273                Manila & 1st               40.721651   \n26018              3185                   City Hall               40.717733   \n26019              3206                     Hilltop               40.731169   \n\n       start station longitude  end station id  end station name  \\\n0                   -74.043117            3211        Newark Ave   \n1                   -74.043117            3269   Brunswick & 6th   \n2                   -74.043117            3269   Brunswick & 6th   \n3                   -74.063913            3280       Astor Place   \n4                   -74.043117            3276  Marin Light Rail   \n...                        ...             ...               ...   \n26015               -74.047727            3194   McGinley Square   \n26016               -74.032810            3639        Harborside   \n26017               -74.042884            3209      Brunswick St   \n26018               -74.043845            3267      Morris Canal   \n26019               -74.057574            3202      Newport PATH   \n\n       end station latitude  end station longitude  bikeid    usertype  \\\n0                 40.721525             -74.046305   29444  Subscriber   \n1                 40.726012             -74.050389   26305  Subscriber   \n2                 40.726012             -74.050389   29268    Customer   \n3                 40.719282             -74.071262   29278    Customer   \n4                 40.714584             -74.042817   29276  Subscriber   \n...                     ...                    ...     ...         ...   \n26015             40.725340             -74.067622   29659  Subscriber   \n26016             40.719252             -74.034234   42361  Subscriber   \n26017             40.724176             -74.050656   42368  Subscriber   \n26018             40.712419             -74.038526   42257  Subscriber   \n26019             40.727224             -74.033759   29302    Customer   \n\n       birth year   gender  direct distance traveled  \n0            1984   female                  0.344533  \n1            1989   female                  0.941573  \n2            1989     male                  0.941573  \n3            1969  unknown                  1.432779  \n4            1983   female                  0.556957  \n...           ...      ...                       ...  \n26015        1989     male                  1.842180  \n26016        1991     male                  0.290848  \n26017        1988     male                  0.712882  \n26018        1981   female                  0.741928  \n26019        1998     male                  2.054756  \n\n[26020 rows x 16 columns]\n"
    }
   ],
   "source": [
    "# 2)    referenced algorithm from here: https://kite.com/python/answers/how-to-find-the-distance-between-two-lat-long-coordinates-in-python\n",
    "import math\n",
    "R = 6373.0      # radius of the Earth\n",
    "\n",
    "def get_distance(lat1, lon1, lat2, lon2):   # Calculate distance between points using the Haversine formula\n",
    "\n",
    "    lat1 = math.radians(lat1)\n",
    "    lon1 = math.radians(lon1)\n",
    "    lat2 = math.radians(lat2)\n",
    "    lon2 = math.radians(lon2)\n",
    "\n",
    "    dlon = lon2 - lon1\n",
    "    dlat = lat2 - lat1\n",
    "\n",
    "    a = math.sin(dlat / 2)**2 + math.cos(lat1) * math.cos(lat2) * math.sin(dlon / 2)**2     # Haversine formula\n",
    "    c = 2 * math.atan2(math.sqrt(a), math.sqrt(1 - a))\n",
    "    distance = R * c\n",
    "    return distance\n",
    "\n",
    "# print(get_distance(df['start station latitude'][0], df['start station longitude'][0], df['end station latitude'][0], df['end station longitude'][0]))\n",
    "\n",
    "df['direct distance traveled'] = df.apply(lambda row: get_distance(row['start station latitude'], row['start station longitude'], row['end station latitude'], row['end station longitude']), axis=1)       # create new column from lat/lon points, in kilometers\n",
    "\n",
    "df['direct distance traveled']\n",
    "print(df)\n"
   ]
  },
  {
   "cell_type": "code",
   "execution_count": 4,
   "metadata": {},
   "outputs": [
    {
     "name": "stdout",
     "output_type": "stream",
     "text": "count    26020.000000\nmean      1981.163605\nstd         10.310239\nmin       1888.000000\n25%       1976.000000\n50%       1983.000000\n75%       1989.000000\nmax       2002.000000\nName: birth year, dtype: float64\n"
    }
   ],
   "source": [
    "# 3)\n",
    "print(df['birth year'].describe())\n"
   ]
  },
  {
   "cell_type": "code",
   "execution_count": 5,
   "metadata": {},
   "outputs": [
    {
     "name": "stdout",
     "output_type": "stream",
     "text": "Grove St PATH                 3100\nSip Ave                       1493\nHamilton Park                 1327\nColumbus Dr at Exchange Pl    1152\nHarborside                    1091\nNewport PATH                   989\nMarin Light Rail               904\nBrunswick & 6th                776\nCity Hall                      745\nNewark Ave                     720\nNewport Pkwy                   641\nManila & 1st                   632\nWarren St                      628\nJersey & 3rd                   616\nMonmouth and 6th               613\nJersey & 6th St                584\nWashington St                  575\nColumbus Drive                 556\nMorris Canal                   542\nMcGinley Square                538\nBrunswick St                   529\nVan Vorst Park                 528\nDixon Mills                    511\nPaulus Hook                    493\nLiberty Light Rail             474\nEssex Light Rail               398\nJC Medical Center              398\nJournal Square                 393\nGrand St                       359\nAstor Place                    317\nBergen Ave                     275\nMontgomery St                  259\nFairmount Ave                  253\nOakland Ave                    240\nBaldwin at Montgomery          236\nPershing Field                 235\nLafayette Park                 212\nYork St                        192\nLincoln Park                   159\nHilltop                        150\nHoboken Ave at Monmouth St     150\nChrist Hospital                147\nHeights Elevator               140\n5 Corners Library              127\nRiverview Park                 118\nGlenwood Ave                   102\nDey St                          94\nCommunipaw & Berry Lane         91\nLeonard Gordon Park             89\nJackson Square                  76\nUnion St                        53\nName: start station name, dtype: int64\nGrove St PATH                 3548\nHamilton Park                 1342\nSip Ave                       1310\nColumbus Dr at Exchange Pl    1155\nHarborside                    1093\nNewport PATH                   953\nMarin Light Rail               848\nCity Hall                      781\nNewark Ave                     717\nWarren St                      681\nManila & 1st                   666\nNewport Pkwy                   661\nBrunswick & 6th                651\nWashington St                  614\nColumbus Drive                 606\nMonmouth and 6th               604\nJersey & 3rd                   594\nBrunswick St                   528\nMorris Canal                   525\nDixon Mills                    515\nLiberty Light Rail             509\nPaulus Hook                    500\nJersey & 6th St                483\nEssex Light Rail               472\nVan Vorst Park                 461\nGrand St                       405\nJC Medical Center              401\nMcGinley Square                400\nAstor Place                    338\nJournal Square                 325\nBergen Ave                     283\nPershing Field                 247\nYork St                        245\nMontgomery St                  245\nBaldwin at Montgomery          233\nLincoln Park                   218\nFairmount Ave                  215\nLafayette Park                 201\nHoboken Ave at Monmouth St     189\nOakland Ave                    176\nDey St                         130\nChrist Hospital                124\nHilltop                        113\nHeights Elevator               107\nCommunipaw & Berry Lane        106\nRiverview Park                 102\n5 Corners Library              100\nGlenwood Ave                    88\nLeonard Gordon Park             77\nUnion St                        63\nJackson Square                  61\nJCBS Depot                       9\nW 34 St & 11 Ave                 2\nName: end station name, dtype: int64\n"
    }
   ],
   "source": [
    "# 4)\n",
    "print(df['start station name'].value_counts())\n",
    "print(df['end station name'].value_counts())\n"
   ]
  },
  {
   "cell_type": "code",
   "execution_count": 6,
   "metadata": {},
   "outputs": [
    {
     "data": {
      "text/plain": "<matplotlib.axes._subplots.AxesSubplot at 0x120d9c990>"
     },
     "execution_count": 6,
     "metadata": {},
     "output_type": "execute_result"
    }
   ],
   "source": [
    "# 5) \n",
    "df.plot(kind='scatter', x='direct distance traveled', y='tripduration')\n"
   ]
  },
  {
   "cell_type": "markdown",
   "metadata": {},
   "source": [
    "1) \n",
    "\n",
    "- Created a function called get_gender that takes the assigned number for gender in the dataset and converts to gender in string form.\n",
    "- Transformed the gender column from numerical to string representation of gender using transform.\n",
    "\n",
    "2)\n",
    "\n",
    "- Looked for and found an algorithm that finds the distance between two latitude/longitude points.\n",
    "- Created a function called get_distance that uses the algorithm to return the direct distance traveled between the start and end stations.\n",
    "- Created a new column called direct distance traveled, calculated from applying the new function to each row.\n",
    "\n",
    "3) \n",
    "\n",
    "- Called describe on birth year to find the summary statistics for birth year.\n",
    "- The youngest birthyear is 2002, while the oldest birthyear appears to be 1888, which doesn't seem like it's possible, so it could be an error.\n",
    "- The average age of users appears to be around 39 years old, with a mean of 1981.\n",
    "\n",
    "4) \n",
    "\n",
    "- "
   ]
  }
 ],
 "metadata": {
  "kernelspec": {
   "display_name": "Python 3",
   "language": "python",
   "name": "python3"
  },
  "language_info": {
   "codemirror_mode": {
    "name": "ipython",
    "version": 3
   },
   "file_extension": ".py",
   "mimetype": "text/x-python",
   "name": "python",
   "nbconvert_exporter": "python",
   "pygments_lexer": "ipython3",
   "version": "3.7.4-final"
  }
 },
 "nbformat": 4,
 "nbformat_minor": 4
}