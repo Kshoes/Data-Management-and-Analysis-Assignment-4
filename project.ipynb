{
 "cells": [
  {
   "cell_type": "markdown",
   "metadata": {},
   "source": [
    "## 1) Write some documentation\n"
   ]
  },
  {
   "cell_type": "markdown",
   "metadata": {},
   "source": [
    "Name: Jersey City Citibike Tripdata for January 2020\n",
    "\n",
    "Link to Data: [CitybikeNYC](https://s3.amazonaws.com/tripdata/JC-202001-citibike-tripdata.csv.zip)\n",
    "\n",
    "Source / Origin: Trip data for Jersey City, from Citibike NYC's official website for the month of January 2020, they appear to be using Amazon Web Services.\n",
    "\n",
    "Format: csv\n",
    "\n",
    "Types of each column:\n",
    "\n",
    "- tripduration:                 int64\n",
    "- starttime:                   object\n",
    "- stoptime:                    object\n",
    "- start station id:             int64\n",
    "- start station name:          object\n",
    "- start station latitude:     float64\n",
    "- start station longitude:    float64\n",
    "- end station id:               int64\n",
    "- end station name:            object\n",
    "- end station latitude:       float64\n",
    "- end station longitude:      float64\n",
    "- bikeid:                       int64\n",
    "- usertype:                    object\n",
    "- birth year:                   int64\n",
    "- gender:                       int64"
   ]
  },
  {
   "cell_type": "code",
   "execution_count": 2,
   "metadata": {},
   "outputs": [
    {
     "name": "stdout",
     "output_type": "stream",
     "text": "tripduration                 starttime                  stoptime  \\\n0               226  2020-01-01 00:04:50.1920  2020-01-01 00:08:37.0370   \n1               377  2020-01-01 00:16:01.6700  2020-01-01 00:22:19.0800   \n2               288  2020-01-01 00:17:33.8770  2020-01-01 00:22:22.4420   \n3               435  2020-01-01 00:32:05.9020  2020-01-01 00:39:21.0660   \n4               231  2020-01-01 00:46:19.6780  2020-01-01 00:50:11.3440   \n...             ...                       ...                       ...   \n26015           544  2020-01-31 23:29:29.3910  2020-01-31 23:38:33.6910   \n26016           122  2020-01-31 23:30:59.3670  2020-01-31 23:33:01.6870   \n26017           201  2020-01-31 23:42:34.8460  2020-01-31 23:45:55.8780   \n26018           300  2020-01-31 23:45:00.6800  2020-01-31 23:50:00.8740   \n26019           721  2020-01-31 23:48:35.1700  2020-02-01 00:00:36.4060   \n\n       start station id          start station name  start station latitude  \\\n0                  3186               Grove St PATH               40.719586   \n1                  3186               Grove St PATH               40.719586   \n2                  3186               Grove St PATH               40.719586   \n3                  3195                     Sip Ave               40.730897   \n4                  3186               Grove St PATH               40.719586   \n...                 ...                         ...                     ...   \n26015              3213              Van Vorst Park               40.718489   \n26016              3792  Columbus Dr at Exchange Pl               40.716870   \n26017              3273                Manila & 1st               40.721651   \n26018              3185                   City Hall               40.717733   \n26019              3206                     Hilltop               40.731169   \n\n       start station longitude  end station id  end station name  \\\n0                   -74.043117            3211        Newark Ave   \n1                   -74.043117            3269   Brunswick & 6th   \n2                   -74.043117            3269   Brunswick & 6th   \n3                   -74.063913            3280       Astor Place   \n4                   -74.043117            3276  Marin Light Rail   \n...                        ...             ...               ...   \n26015               -74.047727            3194   McGinley Square   \n26016               -74.032810            3639        Harborside   \n26017               -74.042884            3209      Brunswick St   \n26018               -74.043845            3267      Morris Canal   \n26019               -74.057574            3202      Newport PATH   \n\n       end station latitude  end station longitude  bikeid    usertype  \\\n0                 40.721525             -74.046305   29444  Subscriber   \n1                 40.726012             -74.050389   26305  Subscriber   \n2                 40.726012             -74.050389   29268    Customer   \n3                 40.719282             -74.071262   29278    Customer   \n4                 40.714584             -74.042817   29276  Subscriber   \n...                     ...                    ...     ...         ...   \n26015             40.725340             -74.067622   29659  Subscriber   \n26016             40.719252             -74.034234   42361  Subscriber   \n26017             40.724176             -74.050656   42368  Subscriber   \n26018             40.712419             -74.038526   42257  Subscriber   \n26019             40.727224             -74.033759   29302    Customer   \n\n       birth year  gender  \n0            1984       2  \n1            1989       2  \n2            1989       1  \n3            1969       0  \n4            1983       2  \n...           ...     ...  \n26015        1989       1  \n26016        1991       1  \n26017        1988       1  \n26018        1981       2  \n26019        1998       1  \n\n[26020 rows x 15 columns]\ntripduration                 int64\nstarttime                   object\nstoptime                    object\nstart station id             int64\nstart station name          object\nstart station latitude     float64\nstart station longitude    float64\nend station id               int64\nend station name            object\nend station latitude       float64\nend station longitude      float64\nbikeid                       int64\nusertype                    object\nbirth year                   int64\ngender                       int64\ndtype: object\n"
    }
   ],
   "source": [
    "import numpy as np \n",
    "import pandas as pd\n",
    "\n",
    "df = pd.read_csv(\"JC-202001-citibike-tripdata.csv\")\n",
    "print(df)\n",
    "print(df.dtypes)\n",
    "\n"
   ]
  },
  {
   "cell_type": "code",
   "execution_count": null,
   "metadata": {},
   "outputs": [],
   "source": []
  }
 ],
 "metadata": {
  "kernelspec": {
   "display_name": "Python 3",
   "language": "python",
   "name": "python3"
  },
  "language_info": {
   "codemirror_mode": {
    "name": "ipython",
    "version": 3
   },
   "file_extension": ".py",
   "mimetype": "text/x-python",
   "name": "python",
   "nbconvert_exporter": "python",
   "pygments_lexer": "ipython3",
   "version": "3.7.4-final"
  }
 },
 "nbformat": 4,
 "nbformat_minor": 4
}