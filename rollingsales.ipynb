{
 "cells": [
  {
   "cell_type": "markdown",
   "metadata": {},
   "source": [
    "## 1) Import rollingsales_manhattan.csv as a DataFrame"
   ]
  },
  {
   "cell_type": "code",
   "execution_count": 11,
   "metadata": {},
   "outputs": [
    {
     "name": "stdout",
     "output_type": "stream",
     "text": "BOROUGH              NEIGHBORHOOD    BUILDING CLASS CATEGORY  \\\n0          1.0             ALPHABET CITY    01 ONE FAMILY DWELLINGS   \n1          1.0             ALPHABET CITY    01 ONE FAMILY DWELLINGS   \n2          1.0             ALPHABET CITY    02 TWO FAMILY DWELLINGS   \n3          1.0             ALPHABET CITY    02 TWO FAMILY DWELLINGS   \n4          1.0             ALPHABET CITY    02 TWO FAMILY DWELLINGS   \n...        ...                       ...                        ...   \n17154      1.0  WASHINGTON HEIGHTS UPPER  31 COMMERCIAL VACANT LAND   \n17155      1.0  WASHINGTON HEIGHTS UPPER  31 COMMERCIAL VACANT LAND   \n17156      1.0  WASHINGTON HEIGHTS UPPER  31 COMMERCIAL VACANT LAND   \n17157      1.0  WASHINGTON HEIGHTS UPPER  31 COMMERCIAL VACANT LAND   \n17158      1.0  WASHINGTON HEIGHTS UPPER           44 CONDO PARKING   \n\n      TAX CLASS AT PRESENT   BLOCK     LOT  EASE-MENT  \\\n0                        1   376.0    43.0        NaN   \n1                        1   400.0    19.0        NaN   \n2                        1   404.0     1.0        NaN   \n3                        1   404.0     1.0        NaN   \n4                        1   404.0     1.0        NaN   \n...                    ...     ...     ...        ...   \n17154                    4  2174.0    97.0        NaN   \n17155                    4  2179.0   153.0        NaN   \n17156                    4  2179.0   154.0        NaN   \n17157                    4  2179.0   155.0        NaN   \n17158                    4  2180.0  1222.0        NaN   \n\n      BUILDING CLASS AT PRESENT                ADDRESS APARTMENT NUMBER  ...  \\\n0                            S1    743 EAST 6TH STREET              NaN  ...   \n1                            A4    526 EAST 5TH STREET              NaN  ...   \n2                            B9           166 AVENUE A              NaN  ...   \n3                            B9           166 AVENUE A              NaN  ...   \n4                            B9           166 AVENUE A              NaN  ...   \n...                         ...                    ...              ...  ...   \n17154                        V1       N/A NAGLE AVENUE              NaN  ...   \n17155                        V1  203 CABRINI BOULEVARD              NaN  ...   \n17156                        V1  205 CABRINI BOULEVARD              NaN  ...   \n17157                        V1  207 CABRINI BOULEVARD              NaN  ...   \n17158                        RG    736 WEST 187 STREET            PRK22  ...   \n\n       RESIDENTIAL UNITS  COMMERCIAL UNITS  TOTAL UNITS  LAND SQUARE FEET  \\\n0                    1.0               1.0          2.0             2,090   \n1                    1.0               0.0          1.0             1,883   \n2                    2.0               0.0          2.0             1,510   \n3                    2.0               0.0          2.0             1,510   \n4                    2.0               0.0          2.0             1,510   \n...                  ...               ...          ...               ...   \n17154                NaN               NaN          NaN             2,800   \n17155                NaN               NaN          NaN             1,928   \n17156                NaN               NaN          NaN             1,775   \n17157                NaN               NaN          NaN             1,555   \n17158                NaN               NaN          NaN               NaN   \n\n      GROSS SQUARE FEET YEAR BUILT  TAX CLASS AT TIME OF SALE  \\\n0                 3,680     1940.0                        1.0   \n1                 5,200     1900.0                        1.0   \n2                 4,520     1900.0                        1.0   \n3                 4,520     1900.0                        1.0   \n4                 4,520     1900.0                        1.0   \n...                 ...        ...                        ...   \n17154               NaN        0.0                        4.0   \n17155               NaN        0.0                        4.0   \n17156               NaN        0.0                        4.0   \n17157               NaN        0.0                        4.0   \n17158               160     2003.0                        4.0   \n\n       BUILDING CLASS AT TIME OF SALE  SALE PRICE  SALE DATE  \n0                                  S1    3,200,000   7/24/19  \n1                                  A4    6,100,000   12/3/18  \n2                                  B9            0   7/22/19  \n3                                  B9            0  11/29/18  \n4                                  B9            0  11/29/18  \n...                               ...          ...       ...  \n17154                              V1       15,000   6/12/19  \n17155                              V1    3,000,000    9/4/18  \n17156                              V1            0    9/4/18  \n17157                              V1            0    9/4/18  \n17158                              RG            0   9/13/18  \n\n[17159 rows x 21 columns]\n"
    }
   ],
   "source": [
    "import numpy as np \n",
    "import pandas as pd\n",
    "\n",
    "df = pd.read_csv(\"rollingsales_manhattan.csv\", skiprows=4)\n",
    "df.dropna(how=\"all\", inplace=True)\n",
    "print(df)"
   ]
  },
  {
   "cell_type": "markdown",
   "metadata": {},
   "source": [
    "The first 4 rows of the file only contained markup/description for the file, and the actual data started after the first 4 rows. In order to have read_csv parse the column and row labels correctly, the first 4 rows had to be omitted from the read_csv."
   ]
  },
  {
   "cell_type": "markdown",
   "metadata": {},
   "source": [
    "## 2) Display columns and row samples\n"
   ]
  },
  {
   "cell_type": "code",
   "execution_count": 12,
   "metadata": {},
   "outputs": [
    {
     "name": "stdout",
     "output_type": "stream",
     "text": "Index(['BOROUGH', 'NEIGHBORHOOD', 'BUILDING CLASS CATEGORY',\n       'TAX CLASS AT PRESENT', 'BLOCK', 'LOT', 'EASE-MENT',\n       'BUILDING CLASS AT PRESENT', 'ADDRESS', 'APARTMENT NUMBER', 'ZIP CODE',\n       'RESIDENTIAL UNITS', 'COMMERCIAL UNITS', 'TOTAL UNITS',\n       'LAND SQUARE FEET', 'GROSS SQUARE FEET', 'YEAR BUILT',\n       'TAX CLASS AT TIME OF SALE', 'BUILDING CLASS AT TIME OF SALE',\n       ' SALE PRICE ', 'SALE DATE'],\n      dtype='object')\n   BOROUGH   NEIGHBORHOOD  BUILDING CLASS CATEGORY TAX CLASS AT PRESENT  \\\n0      1.0  ALPHABET CITY  01 ONE FAMILY DWELLINGS                    1   \n1      1.0  ALPHABET CITY  01 ONE FAMILY DWELLINGS                    1   \n2      1.0  ALPHABET CITY  02 TWO FAMILY DWELLINGS                    1   \n3      1.0  ALPHABET CITY  02 TWO FAMILY DWELLINGS                    1   \n4      1.0  ALPHABET CITY  02 TWO FAMILY DWELLINGS                    1   \n\n   BLOCK   LOT  EASE-MENT BUILDING CLASS AT PRESENT              ADDRESS  \\\n0  376.0  43.0        NaN                        S1  743 EAST 6TH STREET   \n1  400.0  19.0        NaN                        A4  526 EAST 5TH STREET   \n2  404.0   1.0        NaN                        B9         166 AVENUE A   \n3  404.0   1.0        NaN                        B9         166 AVENUE A   \n4  404.0   1.0        NaN                        B9         166 AVENUE A   \n\n  APARTMENT NUMBER  ...  RESIDENTIAL UNITS  COMMERCIAL UNITS  TOTAL UNITS  \\\n0              NaN  ...                1.0               1.0          2.0   \n1              NaN  ...                1.0               0.0          1.0   \n2              NaN  ...                2.0               0.0          2.0   \n3              NaN  ...                2.0               0.0          2.0   \n4              NaN  ...                2.0               0.0          2.0   \n\n   LAND SQUARE FEET GROSS SQUARE FEET YEAR BUILT  TAX CLASS AT TIME OF SALE  \\\n0             2,090             3,680     1940.0                        1.0   \n1             1,883             5,200     1900.0                        1.0   \n2             1,510             4,520     1900.0                        1.0   \n3             1,510             4,520     1900.0                        1.0   \n4             1,510             4,520     1900.0                        1.0   \n\n   BUILDING CLASS AT TIME OF SALE  SALE PRICE  SALE DATE  \n0                              S1    3,200,000   7/24/19  \n1                              A4    6,100,000   12/3/18  \n2                              B9            0   7/22/19  \n3                              B9            0  11/29/18  \n4                              B9            0  11/29/18  \n\n[5 rows x 21 columns]\n      BOROUGH         NEIGHBORHOOD          BUILDING CLASS CATEGORY  \\\n8981      1.0  MORNINGSIDE HEIGHTS   10 COOPS - ELEVATOR APARTMENTS   \n8550      1.0         MIDTOWN WEST  13 CONDOS - ELEVATOR APARTMENTS   \n9102      1.0          MURRAY HILL   10 COOPS - ELEVATOR APARTMENTS   \n7896      1.0         MIDTOWN EAST  13 CONDOS - ELEVATOR APARTMENTS   \n5854      1.0             KIPS BAY  13 CONDOS - ELEVATOR APARTMENTS   \n\n     TAX CLASS AT PRESENT   BLOCK     LOT  EASE-MENT  \\\n8981                    2  1978.0     1.0        NaN   \n8550                    2  1032.0  1313.0        NaN   \n9102                    2   889.0    15.0        NaN   \n7896                    2  1340.0  1020.0        NaN   \n5854                    2   968.0  1267.0        NaN   \n\n     BUILDING CLASS AT PRESENT                        ADDRESS  \\\n8981                        D4       100 LA SALLE STREET, 14F   \n8550                        R4        350 WEST 42 STREET, 31E   \n9102                        D4      139 EAST 33RD STREET, PHF   \n7896                        R4  845 UNITED NATIONS PLAZA, 23A   \n5854                        R4               630 FIRST AVENUE   \n\n     APARTMENT NUMBER  ...  RESIDENTIAL UNITS  COMMERCIAL UNITS  TOTAL UNITS  \\\n8981              NaN  ...                NaN               NaN          NaN   \n8550              31E  ...                NaN               NaN          NaN   \n9102              NaN  ...                NaN               NaN          NaN   \n7896              23A  ...                NaN               NaN          NaN   \n5854              21H  ...                NaN               NaN          NaN   \n\n      LAND SQUARE FEET GROSS SQUARE FEET YEAR BUILT  \\\n8981               NaN               NaN     1956.0   \n8550               NaN               768     2004.0   \n9102               NaN               NaN     1957.0   \n7896               NaN             1,972        0.0   \n5854               NaN               677     1984.0   \n\n      TAX CLASS AT TIME OF SALE  BUILDING CLASS AT TIME OF SALE  SALE PRICE   \\\n8981                        2.0                              D4      980,000   \n8550                        2.0                              R4    1,100,000   \n9102                        2.0                              D4      500,000   \n7896                        2.0                              R4    2,900,000   \n5854                        2.0                              R4      810,000   \n\n     SALE DATE  \n8981   3/29/19  \n8550   7/17/19  \n9102    8/6/19  \n7896   6/18/19  \n5854  12/13/18  \n\n[5 rows x 21 columns]\n       BOROUGH              NEIGHBORHOOD    BUILDING CLASS CATEGORY  \\\n17154      1.0  WASHINGTON HEIGHTS UPPER  31 COMMERCIAL VACANT LAND   \n17155      1.0  WASHINGTON HEIGHTS UPPER  31 COMMERCIAL VACANT LAND   \n17156      1.0  WASHINGTON HEIGHTS UPPER  31 COMMERCIAL VACANT LAND   \n17157      1.0  WASHINGTON HEIGHTS UPPER  31 COMMERCIAL VACANT LAND   \n17158      1.0  WASHINGTON HEIGHTS UPPER           44 CONDO PARKING   \n\n      TAX CLASS AT PRESENT   BLOCK     LOT  EASE-MENT  \\\n17154                    4  2174.0    97.0        NaN   \n17155                    4  2179.0   153.0        NaN   \n17156                    4  2179.0   154.0        NaN   \n17157                    4  2179.0   155.0        NaN   \n17158                    4  2180.0  1222.0        NaN   \n\n      BUILDING CLASS AT PRESENT                ADDRESS APARTMENT NUMBER  ...  \\\n17154                        V1       N/A NAGLE AVENUE              NaN  ...   \n17155                        V1  203 CABRINI BOULEVARD              NaN  ...   \n17156                        V1  205 CABRINI BOULEVARD              NaN  ...   \n17157                        V1  207 CABRINI BOULEVARD              NaN  ...   \n17158                        RG    736 WEST 187 STREET            PRK22  ...   \n\n       RESIDENTIAL UNITS  COMMERCIAL UNITS  TOTAL UNITS  LAND SQUARE FEET  \\\n17154                NaN               NaN          NaN             2,800   \n17155                NaN               NaN          NaN             1,928   \n17156                NaN               NaN          NaN             1,775   \n17157                NaN               NaN          NaN             1,555   \n17158                NaN               NaN          NaN               NaN   \n\n      GROSS SQUARE FEET YEAR BUILT  TAX CLASS AT TIME OF SALE  \\\n17154               NaN        0.0                        4.0   \n17155               NaN        0.0                        4.0   \n17156               NaN        0.0                        4.0   \n17157               NaN        0.0                        4.0   \n17158               160     2003.0                        4.0   \n\n       BUILDING CLASS AT TIME OF SALE  SALE PRICE  SALE DATE  \n17154                              V1       15,000   6/12/19  \n17155                              V1    3,000,000    9/4/18  \n17156                              V1            0    9/4/18  \n17157                              V1            0    9/4/18  \n17158                              RG            0   9/13/18  \n\n[5 rows x 21 columns]\n"
    }
   ],
   "source": [
    "print(df.columns)\n",
    "\n",
    "print(df.head(5))\n",
    "\n",
    "print(df.sample(n=5))\n",
    "\n",
    "print(df.tail(5))"
   ]
  },
  {
   "cell_type": "markdown",
   "metadata": {},
   "source": [
    "## 3) Describe the rows and data types\n"
   ]
  },
  {
   "cell_type": "code",
   "execution_count": 13,
   "metadata": {},
   "outputs": [
    {
     "name": "stdout",
     "output_type": "stream",
     "text": "Index(['BOROUGH', 'NEIGHBORHOOD', 'BUILDING CLASS CATEGORY',\n       'TAX CLASS AT PRESENT', 'BLOCK', 'LOT', 'EASE-MENT',\n       'BUILDING CLASS AT PRESENT', 'ADDRESS', 'APARTMENT NUMBER', 'ZIP CODE',\n       'RESIDENTIAL UNITS', 'COMMERCIAL UNITS', 'TOTAL UNITS',\n       'LAND SQUARE FEET', 'GROSS SQUARE FEET', 'YEAR BUILT',\n       'TAX CLASS AT TIME OF SALE', 'BUILDING CLASS AT TIME OF SALE',\n       ' SALE PRICE ', 'SALE DATE'],\n      dtype='object')\nBOROUGH                           float64\nNEIGHBORHOOD                       object\nBUILDING CLASS CATEGORY            object\nTAX CLASS AT PRESENT               object\nBLOCK                             float64\nLOT                               float64\nEASE-MENT                         float64\nBUILDING CLASS AT PRESENT          object\nADDRESS                            object\nAPARTMENT NUMBER                   object\nZIP CODE                          float64\nRESIDENTIAL UNITS                 float64\nCOMMERCIAL UNITS                  float64\nTOTAL UNITS                       float64\nLAND SQUARE FEET                   object\nGROSS SQUARE FEET                  object\nYEAR BUILT                        float64\nTAX CLASS AT TIME OF SALE         float64\nBUILDING CLASS AT TIME OF SALE     object\n SALE PRICE                        object\nSALE DATE                          object\ndtype: object\nBOROUGH                           17159\nNEIGHBORHOOD                      17159\nBUILDING CLASS CATEGORY           17159\nTAX CLASS AT PRESENT              17088\nBLOCK                             17159\nLOT                               17159\nEASE-MENT                             0\nBUILDING CLASS AT PRESENT         17088\nADDRESS                           17159\nAPARTMENT NUMBER                   8213\nZIP CODE                          17088\nRESIDENTIAL UNITS                  1783\nCOMMERCIAL UNITS                   1783\nTOTAL UNITS                        1783\nLAND SQUARE FEET                   1903\nGROSS SQUARE FEET                 10012\nYEAR BUILT                        17088\nTAX CLASS AT TIME OF SALE         17159\nBUILDING CLASS AT TIME OF SALE    17159\n SALE PRICE                       17159\nSALE DATE                         17159\ndtype: int64\n"
    }
   ],
   "source": [
    "print(df.columns)\n",
    "\n",
    "print(df.dtypes)\n",
    "\n",
    "print(df.count())"
   ]
  },
  {
   "cell_type": "markdown",
   "metadata": {},
   "source": [
    "Columns with \"wrong\" type:\n",
    "\n",
    "    - NEIGHBORHOOD: str\n",
    "    - BUILDING CLASS CATEGORY: str\n",
    "    - TAX CLASS AT PRESENT: str\n",
    "    - BUILDING CLASS AT PRESENT: str\n",
    "    - ADDRESS: str\n",
    "    - APARTMENT NUMBER: str\n",
    "    - LAND SQUARE FEET: float64\n",
    "    - GROSS SQUARE FEET: float64\n",
    "    - BUILDING CLASS AT TIME OF SALE: str\n",
    "    - SALE PRICE: float64"
   ]
  },
  {
   "cell_type": "code",
   "execution_count": 14,
   "metadata": {},
   "outputs": [
    {
     "name": "stdout",
     "output_type": "stream",
     "text": "BOROUGH              NEIGHBORHOOD    BUILDING CLASS CATEGORY  \\\n0          1.0             ALPHABET CITY    01 ONE FAMILY DWELLINGS   \n1          1.0             ALPHABET CITY    01 ONE FAMILY DWELLINGS   \n2          1.0             ALPHABET CITY    02 TWO FAMILY DWELLINGS   \n3          1.0             ALPHABET CITY    02 TWO FAMILY DWELLINGS   \n4          1.0             ALPHABET CITY    02 TWO FAMILY DWELLINGS   \n...        ...                       ...                        ...   \n17154      1.0  WASHINGTON HEIGHTS UPPER  31 COMMERCIAL VACANT LAND   \n17155      1.0  WASHINGTON HEIGHTS UPPER  31 COMMERCIAL VACANT LAND   \n17156      1.0  WASHINGTON HEIGHTS UPPER  31 COMMERCIAL VACANT LAND   \n17157      1.0  WASHINGTON HEIGHTS UPPER  31 COMMERCIAL VACANT LAND   \n17158      1.0  WASHINGTON HEIGHTS UPPER           44 CONDO PARKING   \n\n      TAX CLASS AT PRESENT   BLOCK     LOT  EASE-MENT  \\\n0                        1   376.0    43.0        NaN   \n1                        1   400.0    19.0        NaN   \n2                        1   404.0     1.0        NaN   \n3                        1   404.0     1.0        NaN   \n4                        1   404.0     1.0        NaN   \n...                    ...     ...     ...        ...   \n17154                    4  2174.0    97.0        NaN   \n17155                    4  2179.0   153.0        NaN   \n17156                    4  2179.0   154.0        NaN   \n17157                    4  2179.0   155.0        NaN   \n17158                    4  2180.0  1222.0        NaN   \n\n      BUILDING CLASS AT PRESENT                ADDRESS APARTMENT NUMBER  ...  \\\n0                            S1    743 EAST 6TH STREET              NaN  ...   \n1                            A4    526 EAST 5TH STREET              NaN  ...   \n2                            B9           166 AVENUE A              NaN  ...   \n3                            B9           166 AVENUE A              NaN  ...   \n4                            B9           166 AVENUE A              NaN  ...   \n...                         ...                    ...              ...  ...   \n17154                        V1       N/A NAGLE AVENUE              NaN  ...   \n17155                        V1  203 CABRINI BOULEVARD              NaN  ...   \n17156                        V1  205 CABRINI BOULEVARD              NaN  ...   \n17157                        V1  207 CABRINI BOULEVARD              NaN  ...   \n17158                        RG    736 WEST 187 STREET            PRK22  ...   \n\n       RESIDENTIAL UNITS  COMMERCIAL UNITS  TOTAL UNITS  LAND SQUARE FEET  \\\n0                    1.0               1.0          2.0            2090.0   \n1                    1.0               0.0          1.0            1883.0   \n2                    2.0               0.0          2.0            1510.0   \n3                    2.0               0.0          2.0            1510.0   \n4                    2.0               0.0          2.0            1510.0   \n...                  ...               ...          ...               ...   \n17154                NaN               NaN          NaN            2800.0   \n17155                NaN               NaN          NaN            1928.0   \n17156                NaN               NaN          NaN            1775.0   \n17157                NaN               NaN          NaN            1555.0   \n17158                NaN               NaN          NaN               NaN   \n\n       GROSS SQUARE FEET  YEAR BUILT  TAX CLASS AT TIME OF SALE  \\\n0                 3680.0      1940.0                        1.0   \n1                 5200.0      1900.0                        1.0   \n2                 4520.0      1900.0                        1.0   \n3                 4520.0      1900.0                        1.0   \n4                 4520.0      1900.0                        1.0   \n...                  ...         ...                        ...   \n17154                NaN         0.0                        4.0   \n17155                NaN         0.0                        4.0   \n17156                NaN         0.0                        4.0   \n17157                NaN         0.0                        4.0   \n17158              160.0      2003.0                        4.0   \n\n       BUILDING CLASS AT TIME OF SALE  SALE PRICE   SALE DATE  \n0                                  S1    3200000.0    7/24/19  \n1                                  A4    6100000.0    12/3/18  \n2                                  B9          0.0    7/22/19  \n3                                  B9          0.0   11/29/18  \n4                                  B9          0.0   11/29/18  \n...                               ...          ...        ...  \n17154                              V1      15000.0    6/12/19  \n17155                              V1    3000000.0     9/4/18  \n17156                              V1          0.0     9/4/18  \n17157                              V1          0.0     9/4/18  \n17158                              RG          0.0    9/13/18  \n\n[17159 rows x 21 columns]\nBOROUGH                           float64\nNEIGHBORHOOD                       object\nBUILDING CLASS CATEGORY            object\nTAX CLASS AT PRESENT               object\nBLOCK                             float64\nLOT                               float64\nEASE-MENT                         float64\nBUILDING CLASS AT PRESENT          object\nADDRESS                            object\nAPARTMENT NUMBER                   object\nZIP CODE                          float64\nRESIDENTIAL UNITS                 float64\nCOMMERCIAL UNITS                  float64\nTOTAL UNITS                       float64\nLAND SQUARE FEET                  float64\nGROSS SQUARE FEET                 float64\nYEAR BUILT                        float64\nTAX CLASS AT TIME OF SALE         float64\nBUILDING CLASS AT TIME OF SALE     object\n SALE PRICE                       float64\nSALE DATE                          object\ndtype: object\n"
    }
   ],
   "source": [
    "# pd.options.display.float_format = '{:,.0f}'.format\n",
    "\n",
    "# df[['NEIGHBORHOOD', 'BUILDING CLASS CATEGORY', 'TAX CLASS AT PRESENT', 'BUILDING CLASS AT PRESENT', 'ADDRESS', 'BUILDING CLASS AT TIME OF SALE']] = df[['NEIGHBORHOOD', 'BUILDING CLASS CATEGORY', 'TAX CLASS AT PRESENT', 'BUILDING CLASS AT PRESENT', 'ADDRESS', 'BUILDING CLASS AT TIME OF SALE']].applymap(str)\n",
    "\n",
    "df['LAND SQUARE FEET'] = df['LAND SQUARE FEET'].str.replace(',', '').apply(float)\n",
    "df['GROSS SQUARE FEET'] = df['GROSS SQUARE FEET'].str.replace(',', '').apply(float)\n",
    "df[' SALE PRICE '] = df[' SALE PRICE '].str.replace(',', '').apply(float)\n",
    "df['YEAR BUILT'] = df['YEAR BUILT'].astype(str).str.replace(',', '').apply(float)\n",
    "\n",
    "\n",
    "\n",
    "print(df)\n",
    "print(df.dtypes)"
   ]
  },
  {
   "cell_type": "markdown",
   "metadata": {},
   "source": [
    "## 4) Initial column (or row) clean-up\n"
   ]
  },
  {
   "cell_type": "code",
   "execution_count": 15,
   "metadata": {},
   "outputs": [
    {
     "name": "stdout",
     "output_type": "stream",
     "text": "ADDRESS APARTMENT NUMBER\n9    275 EAST 7TH STREET, GD              NaN\n127    259 EAST 7 STREET, 1B               1B\nIndex(['BOROUGH', 'NEIGHBORHOOD', 'BUILDING CLASS CATEGORY',\n       'TAX CLASS AT PRESENT', 'BLOCK', 'LOT', 'BUILDING CLASS AT PRESENT',\n       'ADDRESS', 'ZIP CODE', 'RESIDENTIAL UNITS', 'COMMERCIAL UNITS',\n       'TOTAL UNITS', 'LAND SQUARE FEET', 'GROSS SQUARE FEET', 'YEAR BUILT',\n       'TAX CLASS AT TIME OF SALE', 'BUILDING CLASS AT TIME OF SALE',\n       'SALE PRICE', 'SALE DATE'],\n      dtype='object')\n"
    }
   ],
   "source": [
    "print(df.iloc[[9, 127], [8, 9]])\n",
    "\n",
    "df.drop(columns=['EASE-MENT', 'APARTMENT NUMBER'], inplace=True)\n",
    "\n",
    "df.rename(columns={' SALE PRICE ': 'SALE PRICE'}, inplace=True)\n",
    "\n",
    "print(df.columns)\n"
   ]
  },
  {
   "cell_type": "markdown",
   "metadata": {},
   "source": [
    "These columns should be removed because they are redundant: EASE-MENT only contained NA values as shown through the count() method, and APARTMENT NUMBER is already included in all of the ADDRESS fields if present, and some APARTMENT NUMBER fields are empty even though their respective ADDRESS field contained an apartment number. For example, row 9 lists the apartment number in the ADDRESS field, but the APARTMENT NUMBER field is empty, and row 127 contains the apartment number in both fields.\n",
    "\n",
    "This column should be renamed because the extra spaces in the name make it inconsistent with the rest of the column names."
   ]
  },
  {
   "cell_type": "markdown",
   "metadata": {},
   "source": [
    "## 5) Determine the top three neighborhoods that had the most properties sold\n"
   ]
  },
  {
   "cell_type": "code",
   "execution_count": 16,
   "metadata": {},
   "outputs": [
    {
     "data": {
      "text/plain": "UPPER EAST SIDE (59-79)      1696\nUPPER EAST SIDE (79-96)      1629\nUPPER WEST SIDE (59-79)      1499\nMIDTOWN EAST                 1006\nUPPER WEST SIDE (79-96)       882\nMIDTOWN WEST                  800\nHARLEM-CENTRAL                760\nGRAMERCY                      700\nCHELSEA                       637\nGREENWICH VILLAGE-CENTRAL     609\nLOWER EAST SIDE               598\nGREENWICH VILLAGE-WEST        557\nMURRAY HILL                   551\nTRIBECA                       512\nSOHO                          407\nUPPER WEST SIDE (96-116)      376\nFLATIRON                      319\nFINANCIAL                     314\nKIPS BAY                      293\nMIDTOWN CBD                   242\nCLINTON                       242\nMANHATTAN VALLEY              230\nWASHINGTON HEIGHTS UPPER      228\nHARLEM-EAST                   225\nFASHION                       198\nCIVIC CENTER                  179\nWASHINGTON HEIGHTS LOWER      178\nJAVITS CENTER                 166\nCHINATOWN                     164\nEAST VILLAGE                  163\nALPHABET CITY                 137\nHARLEM-UPPER                  128\nSOUTHBRIDGE                   106\nINWOOD                         91\nMANHATTAN-UNKNOWN              88\nLITTLE ITALY                   79\nMORNINGSIDE HEIGHTS            64\nUPPER EAST SIDE (96-110)       44\nROOSEVELT ISLAND               33\nHARLEM-WEST                    29\nName: NEIGHBORHOOD, dtype: int64"
     },
     "execution_count": 16,
     "metadata": {},
     "output_type": "execute_result"
    }
   ],
   "source": [
    "df['NEIGHBORHOOD'].value_counts()"
   ]
  },
  {
   "cell_type": "markdown",
   "metadata": {},
   "source": [
    "Top 3 neighborhoods with number of sales: \n",
    "\n",
    "1) UPPER EAST SIDE (59-79)      1696\n",
    "2) UPPER EAST SIDE (79-96)      1629\n",
    "3) UPPER WEST SIDE (59-79)      1499\n",
    "\n",
    "As each row documents a single property sale, the frequency of each neighborhood listed in the NEIGHBORHOOD column is the number of sales in that neighborhood, so a simple value_counts() call on the NEIGHBORHOOD column displays the number of sales in each neighborhood."
   ]
  },
  {
   "cell_type": "markdown",
   "metadata": {},
   "source": [
    "## 6) Describe the kind of buildings that were sold\n"
   ]
  },
  {
   "cell_type": "code",
   "execution_count": 25,
   "metadata": {},
   "outputs": [
    {
     "name": "stdout",
     "output_type": "stream",
     "text": "One family homes    0\nOffice buildings    0\nCondominiums        0\nOther               0\ndtype: int64\nOne family homes     131\nOffice buildings     146\nCondominiums        9120\nOther               7762\ndtype: int64\n"
    }
   ],
   "source": [
    "# df['BUILDING CLASS CATEGORY'].value_counts()\n",
    "# df['BUILDING CLASS AT TIME OF SALE'].value_counts()\n",
    "# df['BUILDING CLASS AT TIME OF SALE'].unique()\n",
    "\n",
    "building_types = pd.Series([0, 0, 0, 0], index=['One family homes', 'Office buildings', 'Condominiums', \"Other\"])\n",
    "# print(building_types)\n",
    "\n",
    "def parse_building_type(code):\n",
    "    if code[0] == 'A':\n",
    "        building_types['One family homes'] += 1\n",
    "    elif code[0] == 'O':\n",
    "        building_types['Office buildings'] += 1\n",
    "    elif code[0] == 'R':\n",
    "        building_types['Condominiums'] += 1\n",
    "    else:\n",
    "        building_types['Other'] += 1\n",
    "\n",
    "df['BUILDING CLASS AT TIME OF SALE'].apply(parse_building_type)\n",
    "print(building_types)"
   ]
  },
  {
   "cell_type": "markdown",
   "metadata": {},
   "source": [
    "- Read the documentation, which states that building class codes that start with 'A' are one family homes, 'O' are office buildings, and 'R' are condominiums.\n",
    "\n",
    "- Created a Series called building_types to store the count of each building type.\n",
    "\n",
    "- Created a function parse_building_type to be called on each element in BUILDING CLASS AT TIME OF SALE, which reads the first letter of the building class code and adds to the count of the respective building type in building_types.\n",
    "\n",
    "- Displayed the count by printing building_types."
   ]
  }
 ],
 "metadata": {
  "kernelspec": {
   "display_name": "Python 3",
   "language": "python",
   "name": "python3"
  },
  "language_info": {
   "codemirror_mode": {
    "name": "ipython",
    "version": 3
   },
   "file_extension": ".py",
   "mimetype": "text/x-python",
   "name": "python",
   "nbconvert_exporter": "python",
   "pygments_lexer": "ipython3",
   "version": "3.7.4-final"
  }
 },
 "nbformat": 4,
 "nbformat_minor": 4
}