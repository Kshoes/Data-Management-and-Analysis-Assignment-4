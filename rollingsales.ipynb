{
 "cells": [
  {
   "cell_type": "markdown",
   "metadata": {},
   "source": [
    "## 1) Import rollingsales_manhattan.csv as a DataFrame"
   ]
  },
  {
   "cell_type": "code",
   "execution_count": 5,
   "metadata": {},
   "outputs": [
    {
     "name": "stdout",
     "output_type": "stream",
     "text": "BOROUGH              NEIGHBORHOOD    BUILDING CLASS CATEGORY  \\\n0          1.0             ALPHABET CITY    01 ONE FAMILY DWELLINGS   \n1          1.0             ALPHABET CITY    01 ONE FAMILY DWELLINGS   \n2          1.0             ALPHABET CITY    02 TWO FAMILY DWELLINGS   \n3          1.0             ALPHABET CITY    02 TWO FAMILY DWELLINGS   \n4          1.0             ALPHABET CITY    02 TWO FAMILY DWELLINGS   \n...        ...                       ...                        ...   \n17154      1.0  WASHINGTON HEIGHTS UPPER  31 COMMERCIAL VACANT LAND   \n17155      1.0  WASHINGTON HEIGHTS UPPER  31 COMMERCIAL VACANT LAND   \n17156      1.0  WASHINGTON HEIGHTS UPPER  31 COMMERCIAL VACANT LAND   \n17157      1.0  WASHINGTON HEIGHTS UPPER  31 COMMERCIAL VACANT LAND   \n17158      1.0  WASHINGTON HEIGHTS UPPER           44 CONDO PARKING   \n\n      TAX CLASS AT PRESENT   BLOCK     LOT  EASE-MENT  \\\n0                        1   376.0    43.0        NaN   \n1                        1   400.0    19.0        NaN   \n2                        1   404.0     1.0        NaN   \n3                        1   404.0     1.0        NaN   \n4                        1   404.0     1.0        NaN   \n...                    ...     ...     ...        ...   \n17154                    4  2174.0    97.0        NaN   \n17155                    4  2179.0   153.0        NaN   \n17156                    4  2179.0   154.0        NaN   \n17157                    4  2179.0   155.0        NaN   \n17158                    4  2180.0  1222.0        NaN   \n\n      BUILDING CLASS AT PRESENT                ADDRESS APARTMENT NUMBER  ...  \\\n0                            S1    743 EAST 6TH STREET              NaN  ...   \n1                            A4    526 EAST 5TH STREET              NaN  ...   \n2                            B9           166 AVENUE A              NaN  ...   \n3                            B9           166 AVENUE A              NaN  ...   \n4                            B9           166 AVENUE A              NaN  ...   \n...                         ...                    ...              ...  ...   \n17154                        V1       N/A NAGLE AVENUE              NaN  ...   \n17155                        V1  203 CABRINI BOULEVARD              NaN  ...   \n17156                        V1  205 CABRINI BOULEVARD              NaN  ...   \n17157                        V1  207 CABRINI BOULEVARD              NaN  ...   \n17158                        RG    736 WEST 187 STREET            PRK22  ...   \n\n       RESIDENTIAL UNITS  COMMERCIAL UNITS  TOTAL UNITS  LAND SQUARE FEET  \\\n0                    1.0               1.0          2.0             2,090   \n1                    1.0               0.0          1.0             1,883   \n2                    2.0               0.0          2.0             1,510   \n3                    2.0               0.0          2.0             1,510   \n4                    2.0               0.0          2.0             1,510   \n...                  ...               ...          ...               ...   \n17154                NaN               NaN          NaN             2,800   \n17155                NaN               NaN          NaN             1,928   \n17156                NaN               NaN          NaN             1,775   \n17157                NaN               NaN          NaN             1,555   \n17158                NaN               NaN          NaN               NaN   \n\n      GROSS SQUARE FEET YEAR BUILT  TAX CLASS AT TIME OF SALE  \\\n0                 3,680     1940.0                        1.0   \n1                 5,200     1900.0                        1.0   \n2                 4,520     1900.0                        1.0   \n3                 4,520     1900.0                        1.0   \n4                 4,520     1900.0                        1.0   \n...                 ...        ...                        ...   \n17154               NaN        0.0                        4.0   \n17155               NaN        0.0                        4.0   \n17156               NaN        0.0                        4.0   \n17157               NaN        0.0                        4.0   \n17158               160     2003.0                        4.0   \n\n       BUILDING CLASS AT TIME OF SALE  SALE PRICE  SALE DATE  \n0                                  S1    3,200,000   7/24/19  \n1                                  A4    6,100,000   12/3/18  \n2                                  B9            0   7/22/19  \n3                                  B9            0  11/29/18  \n4                                  B9            0  11/29/18  \n...                               ...          ...       ...  \n17154                              V1       15,000   6/12/19  \n17155                              V1    3,000,000    9/4/18  \n17156                              V1            0    9/4/18  \n17157                              V1            0    9/4/18  \n17158                              RG            0   9/13/18  \n\n[17159 rows x 21 columns]\n"
    }
   ],
   "source": [
    "import numpy as np \n",
    "import pandas as pd\n",
    "\n",
    "df = pd.read_csv(\"rollingsales_manhattan.csv\", skiprows=4)\n",
    "df.dropna(how=\"all\", inplace=True)\n",
    "print(df)"
   ]
  },
  {
   "cell_type": "markdown",
   "metadata": {},
   "source": [
    "The first 4 rows of the file only contained markup/description for the file, and the actual data started after the first 4 rows. In order to have read_csv parse the column and row labels correctly, the first 4 rows had to be omitted from the read_csv."
   ]
  },
  {
   "cell_type": "markdown",
   "metadata": {},
   "source": [
    "## 2) Display columns and row samples\n"
   ]
  },
  {
   "cell_type": "code",
   "execution_count": 6,
   "metadata": {},
   "outputs": [
    {
     "name": "stdout",
     "output_type": "stream",
     "text": "Index(['BOROUGH', 'NEIGHBORHOOD', 'BUILDING CLASS CATEGORY',\n       'TAX CLASS AT PRESENT', 'BLOCK', 'LOT', 'EASE-MENT',\n       'BUILDING CLASS AT PRESENT', 'ADDRESS', 'APARTMENT NUMBER', 'ZIP CODE',\n       'RESIDENTIAL UNITS', 'COMMERCIAL UNITS', 'TOTAL UNITS',\n       'LAND SQUARE FEET', 'GROSS SQUARE FEET', 'YEAR BUILT',\n       'TAX CLASS AT TIME OF SALE', 'BUILDING CLASS AT TIME OF SALE',\n       ' SALE PRICE ', 'SALE DATE'],\n      dtype='object')\n   BOROUGH   NEIGHBORHOOD  BUILDING CLASS CATEGORY TAX CLASS AT PRESENT  \\\n0      1.0  ALPHABET CITY  01 ONE FAMILY DWELLINGS                    1   \n1      1.0  ALPHABET CITY  01 ONE FAMILY DWELLINGS                    1   \n2      1.0  ALPHABET CITY  02 TWO FAMILY DWELLINGS                    1   \n3      1.0  ALPHABET CITY  02 TWO FAMILY DWELLINGS                    1   \n4      1.0  ALPHABET CITY  02 TWO FAMILY DWELLINGS                    1   \n\n   BLOCK   LOT  EASE-MENT BUILDING CLASS AT PRESENT              ADDRESS  \\\n0  376.0  43.0        NaN                        S1  743 EAST 6TH STREET   \n1  400.0  19.0        NaN                        A4  526 EAST 5TH STREET   \n2  404.0   1.0        NaN                        B9         166 AVENUE A   \n3  404.0   1.0        NaN                        B9         166 AVENUE A   \n4  404.0   1.0        NaN                        B9         166 AVENUE A   \n\n  APARTMENT NUMBER  ...  RESIDENTIAL UNITS  COMMERCIAL UNITS  TOTAL UNITS  \\\n0              NaN  ...                1.0               1.0          2.0   \n1              NaN  ...                1.0               0.0          1.0   \n2              NaN  ...                2.0               0.0          2.0   \n3              NaN  ...                2.0               0.0          2.0   \n4              NaN  ...                2.0               0.0          2.0   \n\n   LAND SQUARE FEET GROSS SQUARE FEET YEAR BUILT  TAX CLASS AT TIME OF SALE  \\\n0             2,090             3,680     1940.0                        1.0   \n1             1,883             5,200     1900.0                        1.0   \n2             1,510             4,520     1900.0                        1.0   \n3             1,510             4,520     1900.0                        1.0   \n4             1,510             4,520     1900.0                        1.0   \n\n   BUILDING CLASS AT TIME OF SALE  SALE PRICE  SALE DATE  \n0                              S1    3,200,000   7/24/19  \n1                              A4    6,100,000   12/3/18  \n2                              B9            0   7/22/19  \n3                              B9            0  11/29/18  \n4                              B9            0  11/29/18  \n\n[5 rows x 21 columns]\n       BOROUGH             NEIGHBORHOOD          BUILDING CLASS CATEGORY  \\\n15964      1.0  UPPER WEST SIDE (79-96)   10 COOPS - ELEVATOR APARTMENTS   \n4618       1.0           HARLEM-CENTRAL    12 CONDOS - WALKUP APARTMENTS   \n15698      1.0  UPPER WEST SIDE (79-96)   10 COOPS - ELEVATOR APARTMENTS   \n8894       1.0             MIDTOWN WEST                  45 CONDO HOTELS   \n15009      1.0  UPPER WEST SIDE (59-79)  13 CONDOS - ELEVATOR APARTMENTS   \n\n      TAX CLASS AT PRESENT   BLOCK     LOT  EASE-MENT  \\\n15964                    2  1248.0     1.0        NaN   \n4618                     2  1944.0  1229.0        NaN   \n15698                    2  1204.0    29.0        NaN   \n8894                     4  1006.0  1304.0        NaN   \n15009                    2  1171.0  3139.0        NaN   \n\n      BUILDING CLASS AT PRESENT                           ADDRESS  \\\n15964                        D4           140 RIVERSIDE DRIVE, 8B   \n4618                         R2         421 MANHATTAN AVENUE, C-5   \n15698                        D4        300 CENTRAL PARK WEST, 11L   \n8894                         RH  1335 AVENUE OF THE AMERICAS, HU3   \n15009                        R4       120 RIVERSIDE BOULEVARD, 6J   \n\n      APARTMENT NUMBER  ...  RESIDENTIAL UNITS  COMMERCIAL UNITS  TOTAL UNITS  \\\n15964              NaN  ...                NaN               NaN          NaN   \n4618               C-5  ...                NaN               NaN          NaN   \n15698              NaN  ...                NaN               NaN          NaN   \n8894               HU3  ...                NaN               NaN          NaN   \n15009               6J  ...                NaN               NaN          NaN   \n\n       LAND SQUARE FEET GROSS SQUARE FEET YEAR BUILT  \\\n15964               NaN               NaN     1939.0   \n4618                NaN               850     1910.0   \n15698               NaN               NaN     1930.0   \n8894                NaN            24,917     1963.0   \n15009               NaN               798        0.0   \n\n       TAX CLASS AT TIME OF SALE  BUILDING CLASS AT TIME OF SALE  SALE PRICE   \\\n15964                        2.0                              D4    1,200,000   \n4618                         2.0                              R2      260,193   \n15698                        2.0                              D4    1,575,000   \n8894                         4.0                              RH            0   \n15009                        2.0                              R4      850,000   \n\n      SALE DATE  \n15964  11/26/18  \n4618     6/6/19  \n15698    6/5/19  \n8894   12/22/18  \n15009   5/22/19  \n\n[5 rows x 21 columns]\n       BOROUGH              NEIGHBORHOOD    BUILDING CLASS CATEGORY  \\\n17154      1.0  WASHINGTON HEIGHTS UPPER  31 COMMERCIAL VACANT LAND   \n17155      1.0  WASHINGTON HEIGHTS UPPER  31 COMMERCIAL VACANT LAND   \n17156      1.0  WASHINGTON HEIGHTS UPPER  31 COMMERCIAL VACANT LAND   \n17157      1.0  WASHINGTON HEIGHTS UPPER  31 COMMERCIAL VACANT LAND   \n17158      1.0  WASHINGTON HEIGHTS UPPER           44 CONDO PARKING   \n\n      TAX CLASS AT PRESENT   BLOCK     LOT  EASE-MENT  \\\n17154                    4  2174.0    97.0        NaN   \n17155                    4  2179.0   153.0        NaN   \n17156                    4  2179.0   154.0        NaN   \n17157                    4  2179.0   155.0        NaN   \n17158                    4  2180.0  1222.0        NaN   \n\n      BUILDING CLASS AT PRESENT                ADDRESS APARTMENT NUMBER  ...  \\\n17154                        V1       N/A NAGLE AVENUE              NaN  ...   \n17155                        V1  203 CABRINI BOULEVARD              NaN  ...   \n17156                        V1  205 CABRINI BOULEVARD              NaN  ...   \n17157                        V1  207 CABRINI BOULEVARD              NaN  ...   \n17158                        RG    736 WEST 187 STREET            PRK22  ...   \n\n       RESIDENTIAL UNITS  COMMERCIAL UNITS  TOTAL UNITS  LAND SQUARE FEET  \\\n17154                NaN               NaN          NaN             2,800   \n17155                NaN               NaN          NaN             1,928   \n17156                NaN               NaN          NaN             1,775   \n17157                NaN               NaN          NaN             1,555   \n17158                NaN               NaN          NaN               NaN   \n\n      GROSS SQUARE FEET YEAR BUILT  TAX CLASS AT TIME OF SALE  \\\n17154               NaN        0.0                        4.0   \n17155               NaN        0.0                        4.0   \n17156               NaN        0.0                        4.0   \n17157               NaN        0.0                        4.0   \n17158               160     2003.0                        4.0   \n\n       BUILDING CLASS AT TIME OF SALE  SALE PRICE  SALE DATE  \n17154                              V1       15,000   6/12/19  \n17155                              V1    3,000,000    9/4/18  \n17156                              V1            0    9/4/18  \n17157                              V1            0    9/4/18  \n17158                              RG            0   9/13/18  \n\n[5 rows x 21 columns]\n"
    }
   ],
   "source": [
    "print(df.columns)\n",
    "\n",
    "print(df.head(5))\n",
    "\n",
    "print(df.sample(n=5))\n",
    "\n",
    "print(df.tail(5))"
   ]
  },
  {
   "cell_type": "markdown",
   "metadata": {},
   "source": [
    "## 3) Describe the rows and data types\n"
   ]
  },
  {
   "cell_type": "code",
   "execution_count": 7,
   "metadata": {},
   "outputs": [
    {
     "name": "stdout",
     "output_type": "stream",
     "text": "Index(['BOROUGH', 'NEIGHBORHOOD', 'BUILDING CLASS CATEGORY',\n       'TAX CLASS AT PRESENT', 'BLOCK', 'LOT', 'EASE-MENT',\n       'BUILDING CLASS AT PRESENT', 'ADDRESS', 'APARTMENT NUMBER', 'ZIP CODE',\n       'RESIDENTIAL UNITS', 'COMMERCIAL UNITS', 'TOTAL UNITS',\n       'LAND SQUARE FEET', 'GROSS SQUARE FEET', 'YEAR BUILT',\n       'TAX CLASS AT TIME OF SALE', 'BUILDING CLASS AT TIME OF SALE',\n       ' SALE PRICE ', 'SALE DATE'],\n      dtype='object')\nBOROUGH                           float64\nNEIGHBORHOOD                       object\nBUILDING CLASS CATEGORY            object\nTAX CLASS AT PRESENT               object\nBLOCK                             float64\nLOT                               float64\nEASE-MENT                         float64\nBUILDING CLASS AT PRESENT          object\nADDRESS                            object\nAPARTMENT NUMBER                   object\nZIP CODE                          float64\nRESIDENTIAL UNITS                 float64\nCOMMERCIAL UNITS                  float64\nTOTAL UNITS                       float64\nLAND SQUARE FEET                   object\nGROSS SQUARE FEET                  object\nYEAR BUILT                        float64\nTAX CLASS AT TIME OF SALE         float64\nBUILDING CLASS AT TIME OF SALE     object\n SALE PRICE                        object\nSALE DATE                          object\ndtype: object\nBOROUGH                           17159\nNEIGHBORHOOD                      17159\nBUILDING CLASS CATEGORY           17159\nTAX CLASS AT PRESENT              17088\nBLOCK                             17159\nLOT                               17159\nEASE-MENT                             0\nBUILDING CLASS AT PRESENT         17088\nADDRESS                           17159\nAPARTMENT NUMBER                   8213\nZIP CODE                          17088\nRESIDENTIAL UNITS                  1783\nCOMMERCIAL UNITS                   1783\nTOTAL UNITS                        1783\nLAND SQUARE FEET                   1903\nGROSS SQUARE FEET                 10012\nYEAR BUILT                        17088\nTAX CLASS AT TIME OF SALE         17159\nBUILDING CLASS AT TIME OF SALE    17159\n SALE PRICE                       17159\nSALE DATE                         17159\ndtype: int64\n"
    }
   ],
   "source": [
    "print(df.columns)\n",
    "\n",
    "print(df.dtypes)\n",
    "\n",
    "print(df.count())"
   ]
  },
  {
   "cell_type": "markdown",
   "metadata": {},
   "source": [
    "Columns with \"wrong\" type:\n",
    "\n",
    "    - NEIGHBORHOOD: str\n",
    "    - BUILDING CLASS CATEGORY: str\n",
    "    - TAX CLASS AT PRESENT: str\n",
    "    - BUILDING CLASS AT PRESENT: str\n",
    "    - ADDRESS: str\n",
    "    - APARTMENT NUMBER: str\n",
    "    - LAND SQUARE FEET: float64\n",
    "    - GROSS SQUARE FEET: float64\n",
    "    - BUILDING CLASS AT TIME OF SALE: str\n",
    "    - SALE PRICE: float64"
   ]
  },
  {
   "cell_type": "code",
   "execution_count": 9,
   "metadata": {},
   "outputs": [
    {
     "ename": "AttributeError",
     "evalue": "Can only use .str accessor with string values!",
     "output_type": "error",
     "traceback": [
      "\u001b[0;31m---------------------------------------------------------------------------\u001b[0m",
      "\u001b[0;31mAttributeError\u001b[0m                            Traceback (most recent call last)",
      "\u001b[0;32m<ipython-input-9-8a1fde3fab12>\u001b[0m in \u001b[0;36m<module>\u001b[0;34m\u001b[0m\n\u001b[1;32m      5\u001b[0m \u001b[0mdf\u001b[0m\u001b[0;34m.\u001b[0m\u001b[0mrename\u001b[0m\u001b[0;34m(\u001b[0m\u001b[0mcolumns\u001b[0m\u001b[0;34m=\u001b[0m\u001b[0;34m{\u001b[0m\u001b[0;34m\" SALE PRICE \"\u001b[0m\u001b[0;34m:\u001b[0m \u001b[0;34m\"SALE PRICE\"\u001b[0m\u001b[0;34m}\u001b[0m\u001b[0;34m)\u001b[0m\u001b[0;34m\u001b[0m\u001b[0;34m\u001b[0m\u001b[0m\n\u001b[1;32m      6\u001b[0m \u001b[0;34m\u001b[0m\u001b[0m\n\u001b[0;32m----> 7\u001b[0;31m \u001b[0mdf\u001b[0m\u001b[0;34m[\u001b[0m\u001b[0;34m'LAND SQUARE FEET'\u001b[0m\u001b[0;34m]\u001b[0m \u001b[0;34m=\u001b[0m \u001b[0mdf\u001b[0m\u001b[0;34m[\u001b[0m\u001b[0;34m'LAND SQUARE FEET'\u001b[0m\u001b[0;34m]\u001b[0m\u001b[0;34m.\u001b[0m\u001b[0mstr\u001b[0m\u001b[0;34m.\u001b[0m\u001b[0mreplace\u001b[0m\u001b[0;34m(\u001b[0m\u001b[0;34m','\u001b[0m\u001b[0;34m,\u001b[0m \u001b[0;34m''\u001b[0m\u001b[0;34m)\u001b[0m\u001b[0;34m.\u001b[0m\u001b[0mapply\u001b[0m\u001b[0;34m(\u001b[0m\u001b[0mfloat\u001b[0m\u001b[0;34m)\u001b[0m\u001b[0;34m\u001b[0m\u001b[0;34m\u001b[0m\u001b[0m\n\u001b[0m\u001b[1;32m      8\u001b[0m \u001b[0mdf\u001b[0m\u001b[0;34m[\u001b[0m\u001b[0;34m'GROSS SQUARE FEET'\u001b[0m\u001b[0;34m]\u001b[0m \u001b[0;34m=\u001b[0m \u001b[0mdf\u001b[0m\u001b[0;34m[\u001b[0m\u001b[0;34m'GROSS SQUARE FEET'\u001b[0m\u001b[0;34m]\u001b[0m\u001b[0;34m.\u001b[0m\u001b[0mstr\u001b[0m\u001b[0;34m.\u001b[0m\u001b[0mreplace\u001b[0m\u001b[0;34m(\u001b[0m\u001b[0;34m','\u001b[0m\u001b[0;34m,\u001b[0m \u001b[0;34m''\u001b[0m\u001b[0;34m)\u001b[0m\u001b[0;34m.\u001b[0m\u001b[0mapply\u001b[0m\u001b[0;34m(\u001b[0m\u001b[0mfloat\u001b[0m\u001b[0;34m)\u001b[0m\u001b[0;34m\u001b[0m\u001b[0;34m\u001b[0m\u001b[0m\n\u001b[1;32m      9\u001b[0m \u001b[0mdf\u001b[0m\u001b[0;34m[\u001b[0m\u001b[0;34m' SALE PRICE '\u001b[0m\u001b[0;34m]\u001b[0m \u001b[0;34m=\u001b[0m \u001b[0mdf\u001b[0m\u001b[0;34m[\u001b[0m\u001b[0;34m' SALE PRICE '\u001b[0m\u001b[0;34m]\u001b[0m\u001b[0;34m.\u001b[0m\u001b[0mstr\u001b[0m\u001b[0;34m.\u001b[0m\u001b[0mreplace\u001b[0m\u001b[0;34m(\u001b[0m\u001b[0;34m','\u001b[0m\u001b[0;34m,\u001b[0m \u001b[0;34m''\u001b[0m\u001b[0;34m)\u001b[0m\u001b[0;34m.\u001b[0m\u001b[0mapply\u001b[0m\u001b[0;34m(\u001b[0m\u001b[0mfloat\u001b[0m\u001b[0;34m)\u001b[0m\u001b[0;34m\u001b[0m\u001b[0;34m\u001b[0m\u001b[0m\n",
      "\u001b[0;32m~/opt/anaconda3/lib/python3.7/site-packages/pandas/core/generic.py\u001b[0m in \u001b[0;36m__getattr__\u001b[0;34m(self, name)\u001b[0m\n\u001b[1;32m   5173\u001b[0m             \u001b[0;32mor\u001b[0m \u001b[0mname\u001b[0m \u001b[0;32min\u001b[0m \u001b[0mself\u001b[0m\u001b[0;34m.\u001b[0m\u001b[0m_accessors\u001b[0m\u001b[0;34m\u001b[0m\u001b[0;34m\u001b[0m\u001b[0m\n\u001b[1;32m   5174\u001b[0m         ):\n\u001b[0;32m-> 5175\u001b[0;31m             \u001b[0;32mreturn\u001b[0m \u001b[0mobject\u001b[0m\u001b[0;34m.\u001b[0m\u001b[0m__getattribute__\u001b[0m\u001b[0;34m(\u001b[0m\u001b[0mself\u001b[0m\u001b[0;34m,\u001b[0m \u001b[0mname\u001b[0m\u001b[0;34m)\u001b[0m\u001b[0;34m\u001b[0m\u001b[0;34m\u001b[0m\u001b[0m\n\u001b[0m\u001b[1;32m   5176\u001b[0m         \u001b[0;32melse\u001b[0m\u001b[0;34m:\u001b[0m\u001b[0;34m\u001b[0m\u001b[0;34m\u001b[0m\u001b[0m\n\u001b[1;32m   5177\u001b[0m             \u001b[0;32mif\u001b[0m \u001b[0mself\u001b[0m\u001b[0;34m.\u001b[0m\u001b[0m_info_axis\u001b[0m\u001b[0;34m.\u001b[0m\u001b[0m_can_hold_identifiers_and_holds_name\u001b[0m\u001b[0;34m(\u001b[0m\u001b[0mname\u001b[0m\u001b[0;34m)\u001b[0m\u001b[0;34m:\u001b[0m\u001b[0;34m\u001b[0m\u001b[0;34m\u001b[0m\u001b[0m\n",
      "\u001b[0;32m~/opt/anaconda3/lib/python3.7/site-packages/pandas/core/accessor.py\u001b[0m in \u001b[0;36m__get__\u001b[0;34m(self, obj, cls)\u001b[0m\n\u001b[1;32m    173\u001b[0m             \u001b[0;31m# we're accessing the attribute of the class, i.e., Dataset.geo\u001b[0m\u001b[0;34m\u001b[0m\u001b[0;34m\u001b[0m\u001b[0;34m\u001b[0m\u001b[0m\n\u001b[1;32m    174\u001b[0m             \u001b[0;32mreturn\u001b[0m \u001b[0mself\u001b[0m\u001b[0;34m.\u001b[0m\u001b[0m_accessor\u001b[0m\u001b[0;34m\u001b[0m\u001b[0;34m\u001b[0m\u001b[0m\n\u001b[0;32m--> 175\u001b[0;31m         \u001b[0maccessor_obj\u001b[0m \u001b[0;34m=\u001b[0m \u001b[0mself\u001b[0m\u001b[0;34m.\u001b[0m\u001b[0m_accessor\u001b[0m\u001b[0;34m(\u001b[0m\u001b[0mobj\u001b[0m\u001b[0;34m)\u001b[0m\u001b[0;34m\u001b[0m\u001b[0;34m\u001b[0m\u001b[0m\n\u001b[0m\u001b[1;32m    176\u001b[0m         \u001b[0;31m# Replace the property with the accessor object. Inspired by:\u001b[0m\u001b[0;34m\u001b[0m\u001b[0;34m\u001b[0m\u001b[0;34m\u001b[0m\u001b[0m\n\u001b[1;32m    177\u001b[0m         \u001b[0;31m# http://www.pydanny.com/cached-property.html\u001b[0m\u001b[0;34m\u001b[0m\u001b[0;34m\u001b[0m\u001b[0;34m\u001b[0m\u001b[0m\n",
      "\u001b[0;32m~/opt/anaconda3/lib/python3.7/site-packages/pandas/core/strings.py\u001b[0m in \u001b[0;36m__init__\u001b[0;34m(self, data)\u001b[0m\n\u001b[1;32m   1915\u001b[0m \u001b[0;34m\u001b[0m\u001b[0m\n\u001b[1;32m   1916\u001b[0m     \u001b[0;32mdef\u001b[0m \u001b[0m__init__\u001b[0m\u001b[0;34m(\u001b[0m\u001b[0mself\u001b[0m\u001b[0;34m,\u001b[0m \u001b[0mdata\u001b[0m\u001b[0;34m)\u001b[0m\u001b[0;34m:\u001b[0m\u001b[0;34m\u001b[0m\u001b[0;34m\u001b[0m\u001b[0m\n\u001b[0;32m-> 1917\u001b[0;31m         \u001b[0mself\u001b[0m\u001b[0;34m.\u001b[0m\u001b[0m_inferred_dtype\u001b[0m \u001b[0;34m=\u001b[0m \u001b[0mself\u001b[0m\u001b[0;34m.\u001b[0m\u001b[0m_validate\u001b[0m\u001b[0;34m(\u001b[0m\u001b[0mdata\u001b[0m\u001b[0;34m)\u001b[0m\u001b[0;34m\u001b[0m\u001b[0;34m\u001b[0m\u001b[0m\n\u001b[0m\u001b[1;32m   1918\u001b[0m         \u001b[0mself\u001b[0m\u001b[0;34m.\u001b[0m\u001b[0m_is_categorical\u001b[0m \u001b[0;34m=\u001b[0m \u001b[0mis_categorical_dtype\u001b[0m\u001b[0;34m(\u001b[0m\u001b[0mdata\u001b[0m\u001b[0;34m)\u001b[0m\u001b[0;34m\u001b[0m\u001b[0;34m\u001b[0m\u001b[0m\n\u001b[1;32m   1919\u001b[0m \u001b[0;34m\u001b[0m\u001b[0m\n",
      "\u001b[0;32m~/opt/anaconda3/lib/python3.7/site-packages/pandas/core/strings.py\u001b[0m in \u001b[0;36m_validate\u001b[0;34m(data)\u001b[0m\n\u001b[1;32m   1965\u001b[0m \u001b[0;34m\u001b[0m\u001b[0m\n\u001b[1;32m   1966\u001b[0m         \u001b[0;32mif\u001b[0m \u001b[0minferred_dtype\u001b[0m \u001b[0;32mnot\u001b[0m \u001b[0;32min\u001b[0m \u001b[0mallowed_types\u001b[0m\u001b[0;34m:\u001b[0m\u001b[0;34m\u001b[0m\u001b[0;34m\u001b[0m\u001b[0m\n\u001b[0;32m-> 1967\u001b[0;31m             \u001b[0;32mraise\u001b[0m \u001b[0mAttributeError\u001b[0m\u001b[0;34m(\u001b[0m\u001b[0;34m\"Can only use .str accessor with string \"\u001b[0m \u001b[0;34m\"values!\"\u001b[0m\u001b[0;34m)\u001b[0m\u001b[0;34m\u001b[0m\u001b[0;34m\u001b[0m\u001b[0m\n\u001b[0m\u001b[1;32m   1968\u001b[0m         \u001b[0;32mreturn\u001b[0m \u001b[0minferred_dtype\u001b[0m\u001b[0;34m\u001b[0m\u001b[0;34m\u001b[0m\u001b[0m\n\u001b[1;32m   1969\u001b[0m \u001b[0;34m\u001b[0m\u001b[0m\n",
      "\u001b[0;31mAttributeError\u001b[0m: Can only use .str accessor with string values!"
     ]
    }
   ],
   "source": [
    "# pd.options.display.float_format = '{:,.0f}'.format\n",
    "\n",
    "# df[['NEIGHBORHOOD', 'BUILDING CLASS CATEGORY', 'TAX CLASS AT PRESENT', 'BUILDING CLASS AT PRESENT', 'ADDRESS', 'BUILDING CLASS AT TIME OF SALE']] = df[['NEIGHBORHOOD', 'BUILDING CLASS CATEGORY', 'TAX CLASS AT PRESENT', 'BUILDING CLASS AT PRESENT', 'ADDRESS', 'BUILDING CLASS AT TIME OF SALE']].applymap(str)\n",
    "\n",
    "df.rename(columns={\" SALE PRICE \": \"SALE PRICE\"})\n",
    "\n",
    "df['LAND SQUARE FEET'] = df['LAND SQUARE FEET'].str.replace(',', '').apply(float)\n",
    "df['GROSS SQUARE FEET'] = df['GROSS SQUARE FEET'].str.replace(',', '').apply(float)\n",
    "df[' SALE PRICE '] = df[' SALE PRICE '].str.replace(',', '').apply(float)\n",
    "df['YEAR BUILT'] = df['YEAR BUILT'].astype(str).str.replace(',', '').apply(float)\n",
    "\n",
    "\n",
    "\n",
    "print(df)\n",
    "print(df.dtypes)"
   ]
  },
  {
   "cell_type": "markdown",
   "metadata": {},
   "source": [
    "## 4) Initial column (or row) clean-up\n"
   ]
  },
  {
   "cell_type": "code",
   "execution_count": null,
   "metadata": {},
   "outputs": [],
   "source": [
    "df.drop(columns=\"EASE-MENT\")"
   ]
  }
 ],
 "metadata": {
  "kernelspec": {
   "display_name": "Python 3",
   "language": "python",
   "name": "python3"
  },
  "language_info": {
   "codemirror_mode": {
    "name": "ipython",
    "version": 3
   },
   "file_extension": ".py",
   "mimetype": "text/x-python",
   "name": "python",
   "nbconvert_exporter": "python",
   "pygments_lexer": "ipython3",
   "version": "3.7.4-final"
  }
 },
 "nbformat": 4,
 "nbformat_minor": 4
}